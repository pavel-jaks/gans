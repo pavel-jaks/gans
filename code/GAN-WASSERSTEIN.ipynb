{
 "cells": [
  {
   "cell_type": "code",
   "execution_count": null,
   "metadata": {},
   "outputs": [],
   "source": [
    "%load_ext autoreload\n",
    "%autoreload 2"
   ]
  },
  {
   "cell_type": "code",
   "execution_count": null,
   "metadata": {},
   "outputs": [],
   "source": [
    "from random import random"
   ]
  },
  {
   "cell_type": "code",
   "execution_count": null,
   "metadata": {},
   "outputs": [],
   "source": [
    "import torch\n",
    "import torch.nn as nn\n",
    "import torch.optim as optim"
   ]
  },
  {
   "cell_type": "code",
   "execution_count": null,
   "metadata": {},
   "outputs": [],
   "source": [
    "from models import ModelManager, ModelType\n",
    "from utils import MnistData"
   ]
  },
  {
   "cell_type": "code",
   "execution_count": null,
   "metadata": {},
   "outputs": [],
   "source": [
    "data = MnistData()"
   ]
  },
  {
   "cell_type": "markdown",
   "metadata": {},
   "source": [
    "## Training"
   ]
  },
  {
   "cell_type": "code",
   "execution_count": null,
   "metadata": {},
   "outputs": [],
   "source": [
    "generator = ModelManager.get_untrained(ModelType.Generator)\n",
    "discriminator = ModelManager.get_untrained(ModelType.WassersteinCritic)"
   ]
  },
  {
   "cell_type": "code",
   "execution_count": null,
   "metadata": {},
   "outputs": [],
   "source": [
    "batch = 100\n",
    "# batch_of_real_data, _ = data.get_training_batch(batch)\n",
    "# batch_of_noise = torch.rand(batch, 100)"
   ]
  },
  {
   "cell_type": "code",
   "execution_count": null,
   "metadata": {},
   "outputs": [],
   "source": [
    "discriminator_optimizer = optim.Adam(discriminator.parameters(), lr=2e-4, weight_decay=0.1)\n",
    "generator_optimizer = optim.Adam(generator.parameters(), lr=2e-4, weight_decay=0.03)\n",
    "\n",
    "\n",
    "for epoch in range(600 * 200):\n",
    "    # sampling\n",
    "    batch_of_real_data, _ = data.get_training_batch(batch)\n",
    "    batch_of_noise = torch.rand(batch, 100)\n",
    "    \n",
    "    # zero grad\n",
    "    generator_optimizer.zero_grad()\n",
    "    discriminator_optimizer.zero_grad()\n",
    "\n",
    "    # predictions\n",
    "    batch_of_generated = generator(batch_of_noise)\n",
    "    batch_of_generated_discrimination = discriminator(batch_of_generated)\n",
    "    batch_of_real_discrimination = discriminator(batch_of_real_data)\n",
    "\n",
    "    # computing loss\n",
    "    discriminator_loss = batch_of_generated_discrimination.mean() - batch_of_real_discrimination.mean()\n",
    "    # discriminator_loss /= 2\n",
    "    discriminator_loss.backward()\n",
    "\n",
    "    discriminator_optimizer.step()\n",
    "\n",
    "    batch_of_generated = generator(batch_of_noise)\n",
    "    batch_of_generated_discrimination = discriminator(batch_of_generated)\n",
    "\n",
    "    generator_loss = - batch_of_generated_discrimination.mean() - 0.3 * batch_of_generated.std(dim=0).sum()\n",
    "    discriminator_optimizer.zero_grad()\n",
    "    generator_optimizer.zero_grad()\n",
    "    generator_loss.backward()\n",
    "\n",
    "    generator_optimizer.step()\n",
    "    # log\n",
    "    if (epoch + 1) % 100 == 0:\n",
    "        print(f'---{epoch + 1}:D:{discriminator_loss.item()}:G:{generator_loss.item()}---')\n",
    "        MnistData.display(batch_of_generated[0], scale=True)"
   ]
  },
  {
   "cell_type": "markdown",
   "metadata": {},
   "source": [
    "## Check"
   ]
  },
  {
   "cell_type": "code",
   "execution_count": null,
   "metadata": {},
   "outputs": [],
   "source": [
    "examples = generator(torch.rand(10, 100))\n",
    "\n",
    "for i in range(10):\n",
    "    MnistData.display(examples[i], scale=True)"
   ]
  }
 ],
 "metadata": {
  "kernelspec": {
   "display_name": "Python 3.8.10 64-bit",
   "language": "python",
   "name": "python3"
  },
  "language_info": {
   "codemirror_mode": {
    "name": "ipython",
    "version": 3
   },
   "file_extension": ".py",
   "mimetype": "text/x-python",
   "name": "python",
   "nbconvert_exporter": "python",
   "pygments_lexer": "ipython3",
   "version": "3.8.10"
  },
  "orig_nbformat": 4,
  "vscode": {
   "interpreter": {
    "hash": "e9cf67d4382dce4fbd50b02e030497dd8d7937cea9e35bc281a10388d12c2354"
   }
  }
 },
 "nbformat": 4,
 "nbformat_minor": 2
}
