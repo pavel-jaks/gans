{
 "cells": [
  {
   "cell_type": "code",
   "execution_count": 1,
   "metadata": {},
   "outputs": [],
   "source": [
    "%load_ext autoreload\n",
    "%autoreload 2"
   ]
  },
  {
   "cell_type": "code",
   "execution_count": 2,
   "metadata": {},
   "outputs": [],
   "source": [
    "import torch\n",
    "import torch.nn as nn\n",
    "import torch.optim as optim"
   ]
  },
  {
   "cell_type": "code",
   "execution_count": 3,
   "metadata": {},
   "outputs": [],
   "source": [
    "from models import ModelManager, ModelType\n",
    "from utils import MnistData"
   ]
  },
  {
   "cell_type": "code",
   "execution_count": 4,
   "metadata": {},
   "outputs": [],
   "source": [
    "data = MnistData()"
   ]
  },
  {
   "cell_type": "markdown",
   "metadata": {},
   "source": [
    "## Training"
   ]
  },
  {
   "cell_type": "code",
   "execution_count": 23,
   "metadata": {},
   "outputs": [],
   "source": [
    "generator = ModelManager.get_untrained(ModelType.Generator)\n",
    "discriminator = ModelManager.get_untrained(ModelType.Discriminator)"
   ]
  },
  {
   "cell_type": "code",
   "execution_count": 28,
   "metadata": {},
   "outputs": [
    {
     "name": "stdout",
     "output_type": "stream",
     "text": [
      "D--0:0.7068705558776855--D\n",
      "D--10:0.4022480249404907--D\n",
      "D--20:0.2568296790122986--D\n",
      "D--30:0.6340741515159607--D\n",
      "D--40:0.3292113244533539--D\n",
      "D--50:0.2741222381591797--D\n",
      "D--60:0.44961634278297424--D\n",
      "D--70:0.42506104707717896--D\n",
      "D--80:0.1699003279209137--D\n",
      "D--90:0.18777814507484436--D\n",
      "D--100:0.4522559642791748--D\n",
      "D--110:0.2636260390281677--D\n",
      "D--120:0.08027014136314392--D\n",
      "D--130:0.06045571714639664--D\n",
      "D--140:0.15540312230587006--D\n",
      "---0:D:0.2074947953224182:G:-0.20547839999198914---\n",
      "---10:D:0.2149284929037094:G:-0.21248170733451843---\n",
      "---20:D:0.24143770337104797:G:-0.23979660868644714---\n",
      "---30:D:0.30065715312957764:G:-0.2980078160762787---\n",
      "---40:D:0.41457870602607727:G:-0.41218024492263794---\n",
      "---50:D:0.6434649229049683:G:-0.6391028761863708---\n",
      "---60:D:1.0882182121276855:G:-1.0816574096679688---\n",
      "---70:D:1.8490065336227417:G:-1.8406541347503662---\n",
      "---80:D:2.880683183670044:G:-2.8738832473754883---\n",
      "---90:D:3.985250949859619:G:-3.9779300689697266---\n",
      "---100:D:4.971485137939453:G:-4.9618330001831055---\n",
      "---110:D:5.679697513580322:G:-5.6729865074157715---\n",
      "---120:D:6.128803253173828:G:-6.12101411819458---\n",
      "---130:D:6.381709098815918:G:-6.3748955726623535---\n",
      "---140:D:6.492691993713379:G:-6.483896732330322---\n",
      "---150:D:6.527283191680908:G:-6.518797874450684---\n",
      "---160:D:6.532175064086914:G:-6.524519443511963---\n",
      "---170:D:6.52354097366333:G:-6.515757083892822---\n",
      "---180:D:6.50285530090332:G:-6.495621681213379---\n",
      "---190:D:6.475938320159912:G:-6.466647148132324---\n",
      "---200:D:6.440513610839844:G:-6.43218469619751---\n",
      "---210:D:6.404857158660889:G:-6.394752025604248---\n",
      "---220:D:6.363101005554199:G:-6.354122161865234---\n",
      "---230:D:6.319432735443115:G:-6.31113338470459---\n",
      "---240:D:6.275355339050293:G:-6.2675557136535645---\n",
      "---250:D:6.234358310699463:G:-6.224925994873047---\n",
      "---260:D:6.190931797027588:G:-6.182017803192139---\n",
      "---270:D:6.152583122253418:G:-6.1376142501831055---\n",
      "---280:D:6.105167388916016:G:-6.092614650726318---\n",
      "---290:D:6.057152271270752:G:-6.047453880310059---\n",
      "---300:D:6.0126848220825195:G:-6.0025410652160645---\n",
      "---310:D:5.967398166656494:G:-5.957778453826904---\n",
      "---320:D:5.9346818923950195:G:-5.913257122039795---\n",
      "---330:D:5.885885715484619:G:-5.868901252746582---\n",
      "---340:D:5.836309909820557:G:-5.825057506561279---\n"
     ]
    }
   ],
   "source": [
    "\n",
    "generator_optimizer = optim.SGD(generator.parameters(), lr=1e-4, momentum=True)\n",
    "discriminator_optimizer = optim.SGD(discriminator.parameters(), lr=1e-5, momentum=True)\n",
    "\n",
    "batch = 10\n",
    "\n",
    "# pre-train the discriminator\n",
    "for epoch in range(150):\n",
    "    # sampling\n",
    "    batch_of_real_data, _ = data.get_training_batch(batch)\n",
    "    batch_of_noise = torch.rand(batch, 100)\n",
    "    \n",
    "    # zero grad\n",
    "    generator_optimizer.zero_grad()\n",
    "    discriminator_optimizer.zero_grad()\n",
    "\n",
    "    # predictions\n",
    "    batch_of_generated = generator(batch_of_noise)\n",
    "    batch_of_generated_discrimination = discriminator(batch_of_generated)\n",
    "    batch_of_real_discrimination = discriminator(batch_of_real_data)\n",
    "\n",
    "    # computing loss\n",
    "    discriminator_loss = - ((1 - batch_of_generated_discrimination).log().sum() / batch) - (batch_of_real_discrimination.log().sum() / batch)\n",
    "    discriminator_loss.backward()\n",
    "    discriminator_optimizer.step()\n",
    "    if epoch % 10 == 0:\n",
    "        print(f'D--{epoch}:{discriminator_loss.item()}--D')\n",
    "\n",
    "discriminator_optimizer = optim.SGD(discriminator.parameters(), lr=1e-6)\n",
    "\n",
    "for epoch in range(350):\n",
    "    # sampling\n",
    "    batch_of_real_data, _ = data.get_training_batch(batch)\n",
    "    batch_of_noise = torch.rand(batch, 100)\n",
    "    \n",
    "    # zero grad\n",
    "    generator_optimizer.zero_grad()\n",
    "    discriminator_optimizer.zero_grad()\n",
    "\n",
    "    # predictions\n",
    "    batch_of_generated = generator(batch_of_noise)\n",
    "    batch_of_generated_discrimination = discriminator(batch_of_generated)\n",
    "    batch_of_real_discrimination = discriminator(batch_of_real_data)\n",
    "\n",
    "    # computing loss\n",
    "    discriminator_loss = - ((1 - batch_of_generated_discrimination).log().sum() / batch) - (batch_of_real_discrimination.log().sum() / batch)\n",
    "    discriminator_loss.backward()\n",
    "    discriminator_optimizer.step()\n",
    "\n",
    "    batch_of_generated = generator(batch_of_noise)\n",
    "    batch_of_generated_discrimination = discriminator(batch_of_generated)\n",
    "\n",
    "    generator_loss = (1 - batch_of_generated_discrimination).log().sum() / batch\n",
    "    discriminator_optimizer.zero_grad()\n",
    "    generator_optimizer.zero_grad()\n",
    "    generator_loss.backward()\n",
    "    generator_optimizer.step()\n",
    "\n",
    "    # log\n",
    "    if epoch % 10 == 0:\n",
    "        print(f'---{epoch}:D:{discriminator_loss.item()}:G:{generator_loss.item()}---')\n",
    "        # MnistData.display(batch_of_generated[0], scale=True)"
   ]
  },
  {
   "cell_type": "markdown",
   "metadata": {},
   "source": [
    "## Check"
   ]
  },
  {
   "cell_type": "code",
   "execution_count": 29,
   "metadata": {},
   "outputs": [
    {
     "data": {
      "image/png": "[encoded data removed]",
      "text/plain": [
       "<Figure size 432x288 with 1 Axes>"
      ]
     },
     "metadata": {
      "needs_background": "light"
     },
     "output_type": "display_data"
    },
    {
     "data": {
      "image/png": "[encoded data removed]",
      "text/plain": [
       "<Figure size 432x288 with 1 Axes>"
      ]
     },
     "metadata": {
      "needs_background": "light"
     },
     "output_type": "display_data"
    },
    {
     "data": {
      "image/png": "[encoded data removed]",
      "text/plain": [
       "<Figure size 432x288 with 1 Axes>"
      ]
     },
     "metadata": {
      "needs_background": "light"
     },
     "output_type": "display_data"
    },
    {
     "data": {
      "image/png": "[encoded data removed]",
      "text/plain": [
       "<Figure size 432x288 with 1 Axes>"
      ]
     },
     "metadata": {
      "needs_background": "light"
     },
     "output_type": "display_data"
    },
    {
     "data": {
      "image/png": "[encoded data removed]",
      "text/plain": [
       "<Figure size 432x288 with 1 Axes>"
      ]
     },
     "metadata": {
      "needs_background": "light"
     },
     "output_type": "display_data"
    },
    {
     "data": {
      "image/png": "[encoded data removed]",
      "text/plain": [
       "<Figure size 432x288 with 1 Axes>"
      ]
     },
     "metadata": {
      "needs_background": "light"
     },
     "output_type": "display_data"
    },
    {
     "data": {
      "image/png": "[encoded data removed]",
      "text/plain": [
       "<Figure size 432x288 with 1 Axes>"
      ]
     },
     "metadata": {
      "needs_background": "light"
     },
     "output_type": "display_data"
    },
    {
     "data": {
      "image/png": "[encoded data removed]",
      "text/plain": [
       "<Figure size 432x288 with 1 Axes>"
      ]
     },
     "metadata": {
      "needs_background": "light"
     },
     "output_type": "display_data"
    },
    {
     "data": {
      "image/png": "[encoded data removed]",
      "text/plain": [
       "<Figure size 432x288 with 1 Axes>"
      ]
     },
     "metadata": {
      "needs_background": "light"
     },
     "output_type": "display_data"
    },
    {
     "data": {
      "image/png": "[encoded data removed]",
      "text/plain": [
       "<Figure size 432x288 with 1 Axes>"
      ]
     },
     "metadata": {
      "needs_background": "light"
     },
     "output_type": "display_data"
    }
   ],
   "source": [
    "examples = generator(torch.rand(10, 100))\n",
    "\n",
    "for i in range(10):\n",
    "    MnistData.display(examples[i], scale=True)"
   ]
  }
 ],
 "metadata": {
  "kernelspec": {
   "display_name": "Python 3.8.10 64-bit",
   "language": "python",
   "name": "python3"
  },
  "language_info": {
   "codemirror_mode": {
    "name": "ipython",
    "version": 3
   },
   "file_extension": ".py",
   "mimetype": "text/x-python",
   "name": "python",
   "nbconvert_exporter": "python",
   "pygments_lexer": "ipython3",
   "version": "3.8.10"
  },
  "orig_nbformat": 4,
  "vscode": {
   "interpreter": {
    "hash": "e9cf67d4382dce4fbd50b02e030497dd8d7937cea9e35bc281a10388d12c2354"
   }
  }
 },
 "nbformat": 4,
 "nbformat_minor": 2
}
