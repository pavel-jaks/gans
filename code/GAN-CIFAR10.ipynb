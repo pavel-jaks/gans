{
 "cells": [
  {
   "cell_type": "code",
   "execution_count": null,
   "metadata": {},
   "outputs": [],
   "source": [
    "%load_ext autoreload\n",
    "%autoreload 2"
   ]
  },
  {
   "cell_type": "code",
   "execution_count": null,
   "metadata": {},
   "outputs": [],
   "source": [
    "import random"
   ]
  },
  {
   "cell_type": "code",
   "execution_count": null,
   "metadata": {},
   "outputs": [],
   "source": [
    "import numpy as np"
   ]
  },
  {
   "cell_type": "code",
   "execution_count": null,
   "metadata": {},
   "outputs": [],
   "source": [
    "import torch\n",
    "import torch.nn as nn\n",
    "import torch.optim as optim\n",
    "from torchvision.datasets import CIFAR10\n",
    "from torchvision import transforms"
   ]
  },
  {
   "cell_type": "code",
   "execution_count": null,
   "metadata": {},
   "outputs": [],
   "source": [
    "from matplotlib import pyplot as plt"
   ]
  },
  {
   "cell_type": "code",
   "execution_count": null,
   "metadata": {},
   "outputs": [],
   "source": [
    "transform = transforms.Compose([\n",
    "    transforms.ToTensor(),\n",
    "    transforms.Normalize((0.5, 0.5, 0.5), (0.5, 0.5, 0.5))\n",
    "])\n",
    "data = CIFAR10('cifar', transform=transform, download=True, )"
   ]
  },
  {
   "cell_type": "code",
   "execution_count": null,
   "metadata": {},
   "outputs": [],
   "source": [
    "len(data)"
   ]
  },
  {
   "cell_type": "code",
   "execution_count": null,
   "metadata": {},
   "outputs": [],
   "source": [
    "def get_batch(data, batch_size):\n",
    "    indexes = [random.randint(0, len(data) - 1) for _ in range(batch_size)]\n",
    "    images = [data[index][0].tolist() for index in indexes]\n",
    "    labels = [data[index][1] for index in indexes]\n",
    "    return torch.tensor(images), torch.tensor(labels)"
   ]
  },
  {
   "cell_type": "markdown",
   "metadata": {},
   "source": [
    "## TRAINING"
   ]
  },
  {
   "cell_type": "code",
   "execution_count": null,
   "metadata": {},
   "outputs": [],
   "source": [
    "class CifarGenerator(nn.Module):\n",
    "    def __init__(self):\n",
    "        super().__init__()\n",
    "        self.main = nn.Sequential(\n",
    "            nn.Linear(100, 8192),\n",
    "            nn.LeakyReLU(0.01, True),\n",
    "            nn.Linear(8192, 8192),\n",
    "            nn.LeakyReLU(0.01, True),\n",
    "            nn.Linear(8192, 3 * 32 * 32),\n",
    "            nn.Tanh()\n",
    "        )\n",
    "    \n",
    "    def forward(self, x):\n",
    "        batch_size = x.shape[0]\n",
    "        return self.main(x).reshape(batch_size, 3, 32, 32)\n",
    "\n",
    "\n",
    "class CifarDiscriminator(nn.Module):\n",
    "    def __init__(self):\n",
    "        super().__init__()\n",
    "        self.main = nn.Sequential(\n",
    "            nn.Linear(3 * 32 * 32, 512),\n",
    "            nn.ReLU(True),\n",
    "            nn.Dropout(0.3),\n",
    "            nn.Linear(512, 256),\n",
    "            nn.ReLU(True),\n",
    "            nn.Dropout(0.3),\n",
    "            nn.Linear(256, 1)\n",
    "        )\n",
    "    \n",
    "    def forward(self, x):\n",
    "        batch_size = x.shape[0]\n",
    "        return self.main(x.reshape(batch_size, 3 * 32 * 32))"
   ]
  },
  {
   "cell_type": "code",
   "execution_count": null,
   "metadata": {},
   "outputs": [],
   "source": [
    "generator = CifarGenerator()\n",
    "discriminator = CifarDiscriminator()"
   ]
  },
  {
   "cell_type": "code",
   "execution_count": null,
   "metadata": {},
   "outputs": [],
   "source": [
    "batch = 100"
   ]
  },
  {
   "cell_type": "code",
   "execution_count": null,
   "metadata": {},
   "outputs": [],
   "source": [
    "discriminator_optimizer = optim.Adam(discriminator.parameters(), lr=2e-4)\n",
    "generator_optimizer = optim.Adam(generator.parameters(), lr=2e-4)\n",
    "\n",
    "# criterion = nn.BCELoss()\n",
    "data_loader = torch.utils.data.DataLoader(data, batch_size=batch, shuffle=True)\n",
    "\n",
    "for epoch in range(100):\n",
    "    for batch_id, (x, _) in enumerate(data_loader):\n",
    "        # sampling\n",
    "        batch_of_noise = torch.randn(batch, 100)\n",
    "        \n",
    "        # zero grad\n",
    "        generator_optimizer.zero_grad()\n",
    "        discriminator_optimizer.zero_grad()\n",
    "\n",
    "        # predictions\n",
    "        batch_of_generated = generator(batch_of_noise)\n",
    "        batch_of_generated_discrimination = discriminator(batch_of_generated)\n",
    "        batch_of_real_discrimination = discriminator(x)\n",
    "\n",
    "        # computing loss\n",
    "        discriminator_loss = batch_of_generated_discrimination.mean() - batch_of_real_discrimination.mean()\n",
    "        discriminator_loss.backward()\n",
    "\n",
    "        discriminator_optimizer.step()\n",
    "\n",
    "        batch_of_generated = generator(batch_of_noise)\n",
    "        batch_of_generated_discrimination = discriminator(batch_of_generated)\n",
    "\n",
    "        generator_loss = - batch_of_generated_discrimination.mean() - 0.3 * batch_of_generated.std(dim=0).sum()\n",
    "        discriminator_optimizer.zero_grad()\n",
    "        generator_optimizer.zero_grad()\n",
    "        generator_loss.backward()\n",
    "\n",
    "        generator_optimizer.step()\n",
    "        print(f'------{batch_id}:D:{discriminator_loss.item()}:G:{generator_loss.item()}---')\n",
    "    # log\n",
    "    print(f'---{epoch}:D:{discriminator_loss.item()}:G:{generator_loss.item()}---')\n",
    "    plt.imshow(transforms.ToPILImage()(batch_of_generated[0]))\n",
    "    plt.show()"
   ]
  }
 ],
 "metadata": {
  "kernelspec": {
   "display_name": "Python 3.8.10 64-bit",
   "language": "python",
   "name": "python3"
  },
  "language_info": {
   "codemirror_mode": {
    "name": "ipython",
    "version": 3
   },
   "file_extension": ".py",
   "mimetype": "text/x-python",
   "name": "python",
   "nbconvert_exporter": "python",
   "pygments_lexer": "ipython3",
   "version": "3.8.10"
  },
  "orig_nbformat": 4,
  "vscode": {
   "interpreter": {
    "hash": "e9cf67d4382dce4fbd50b02e030497dd8d7937cea9e35bc281a10388d12c2354"
   }
  }
 },
 "nbformat": 4,
 "nbformat_minor": 2
}
